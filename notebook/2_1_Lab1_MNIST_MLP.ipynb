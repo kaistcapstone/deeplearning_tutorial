{
 "cells": [
  {
   "cell_type": "markdown",
   "metadata": {},
   "source": [
    "# MNIST handwritten digits classification with MLPs\n",
    "\n",
    "In this notebook, we'll train a multi-layer perceptron model to classify MNIST digits using **PyTorch**. \n",
    "\n",
    "First, the needed imports. "
   ]
  },
  {
   "cell_type": "code",
   "execution_count": 5,
   "metadata": {},
   "outputs": [
    {
     "name": "stdout",
     "output_type": "stream",
     "text": [
      "('Using PyTorch version:', '0.4.1', 'CUDA:', True)\n"
     ]
    }
   ],
   "source": [
    "%matplotlib inline\n",
    "\n",
    "import torch\n",
    "import torch.nn as nn\n",
    "import torch.nn.functional as F\n",
    "import torch.optim as optim\n",
    "from torchvision import datasets, transforms\n",
    "from torch.autograd import Variable\n",
    "\n",
    "import numpy as np\n",
    "import matplotlib.pyplot as plt\n",
    "\n",
    "cuda = torch.cuda.is_available()\n",
    "print('Using PyTorch version:', torch.__version__, 'CUDA:', cuda)\n",
    "\n",
    "#torch.manual_seed(42)\n",
    "#if cuda:\n",
    "#    torch.cuda.manual_seed(42)"
   ]
  },
  {
   "cell_type": "markdown",
   "metadata": {},
   "source": [
    "## Data\n",
    "\n",
    "Next we'll load the MNIST data.  First time we may have to download the data, which can take a while.\n",
    "\n",
    "Note that we are here using the MNIST test data for *validation*, instead of for testing the final model."
   ]
  },
  {
   "cell_type": "code",
   "execution_count": 6,
   "metadata": {},
   "outputs": [
    {
     "name": "stdout",
     "output_type": "stream",
     "text": [
      "Downloading http://yann.lecun.com/exdb/mnist/train-images-idx3-ubyte.gz\n",
      "Downloading http://yann.lecun.com/exdb/mnist/train-labels-idx1-ubyte.gz\n",
      "Downloading http://yann.lecun.com/exdb/mnist/t10k-images-idx3-ubyte.gz\n",
      "Downloading http://yann.lecun.com/exdb/mnist/t10k-labels-idx1-ubyte.gz\n",
      "Processing...\n",
      "Done!\n"
     ]
    }
   ],
   "source": [
    "batch_size = 32\n",
    "\n",
    "kwargs = {'num_workers': 1, 'pin_memory': True} if cuda else {}\n",
    "\n",
    "train_loader = torch.utils.data.DataLoader(\n",
    "    datasets.MNIST('../data', train=True, download=True,\n",
    "                   transform=transforms.Compose([\n",
    "                       transforms.ToTensor(),\n",
    "                       transforms.Normalize((0.1307,), (0.3081,))\n",
    "                   ])),\n",
    "    batch_size=batch_size, shuffle=True, **kwargs)\n",
    "\n",
    "validation_loader = torch.utils.data.DataLoader(\n",
    "    datasets.MNIST('../data', train=False, transform=transforms.Compose([\n",
    "                       transforms.ToTensor(),\n",
    "                       transforms.Normalize((0.1307,), (0.3081,))\n",
    "                   ])),\n",
    "    batch_size=batch_size, shuffle=False, **kwargs)"
   ]
  },
  {
   "cell_type": "markdown",
   "metadata": {},
   "source": [
    "The train and test data are provided via data loaders that provide iterators over the datasets. The first element of training data (`X_train`) is a 4th-order tensor of size (`batch_size`, 1, 28, 28), i.e. it consists of a batch of images of size 1x28x28 pixels. `y_train` is a vector containing the correct classes (\"0\", \"1\", ..., \"9\") for each training digit."
   ]
  },
  {
   "cell_type": "code",
   "execution_count": 7,
   "metadata": {},
   "outputs": [
    {
     "name": "stdout",
     "output_type": "stream",
     "text": [
      "('X_train:', torch.Size([32, 1, 28, 28]), 'type:', 'torch.FloatTensor')\n",
      "('y_train:', torch.Size([32]), 'type:', 'torch.LongTensor')\n"
     ]
    }
   ],
   "source": [
    "for (X_train, y_train) in train_loader:\n",
    "    print('X_train:', X_train.size(), 'type:', X_train.type())\n",
    "    print('y_train:', y_train.size(), 'type:', y_train.type())\n",
    "    break"
   ]
  },
  {
   "cell_type": "markdown",
   "metadata": {},
   "source": [
    "Here are the first 10 training digits:"
   ]
  },
  {
   "cell_type": "code",
   "execution_count": 8,
   "metadata": {},
   "outputs": [
    {
     "data": {
      "image/png": "[encoded data removed]",
      "text/plain": [
       "<matplotlib.figure.Figure at 0x7fd1cc403f90>"
      ]
     },
     "metadata": {},
     "output_type": "display_data"
    }
   ],
   "source": [
    "pltsize=1\n",
    "plt.figure(figsize=(10*pltsize, pltsize))\n",
    "\n",
    "for i in range(10):\n",
    "    plt.subplot(1,10,i+1)\n",
    "    plt.axis('off')\n",
    "    plt.imshow(X_train[i,:,:,:].numpy().reshape(28,28), cmap=\"gray\")\n",
    "    plt.title('Class: '+str(y_train[i]))"
   ]
  },
  {
   "cell_type": "markdown",
   "metadata": {},
   "source": [
    "## MLP network definition\n",
    "\n",
    "Let's define the network as a Python class.  We have to write the `__init__()` and `forward()` methods, and PyTorch will automatically generate a `backward()` method for computing the gradients for the backward pass.\n",
    "\n",
    "Finally, we define an optimizer to update the model parameters based on the computed gradients.  We select *stochastic gradient descent (with momentum)* as the optimization algorithm, and set *learning rate* to 0.01.  Note that there are [several different options](http://pytorch.org/docs/optim.html#algorithms) for the optimizer in PyTorch that we could use instead of *SGD*."
   ]
  },
  {
   "cell_type": "code",
   "execution_count": 9,
   "metadata": {},
   "outputs": [
    {
     "name": "stdout",
     "output_type": "stream",
     "text": [
      "Net(\n",
      "  (fc1): Linear(in_features=784, out_features=50, bias=True)\n",
      "  (fc1_drop): Dropout(p=0.2)\n",
      "  (fc2): Linear(in_features=50, out_features=50, bias=True)\n",
      "  (fc2_drop): Dropout(p=0.2)\n",
      "  (fc3): Linear(in_features=50, out_features=10, bias=True)\n",
      ")\n"
     ]
    }
   ],
   "source": [
    "class Net(nn.Module):\n",
    "    def __init__(self):\n",
    "        super(Net, self).__init__()\n",
    "        self.fc1 = nn.Linear(28*28, 50)\n",
    "        self.fc1_drop = nn.Dropout(0.2)\n",
    "        self.fc2 = nn.Linear(50, 50)\n",
    "        self.fc2_drop = nn.Dropout(0.2)\n",
    "        self.fc3 = nn.Linear(50, 10)\n",
    "\n",
    "    def forward(self, x):\n",
    "        x = x.view(-1, 28*28)\n",
    "        x = F.relu(self.fc1(x))\n",
    "        x = self.fc1_drop(x)\n",
    "        x = F.relu(self.fc2(x))\n",
    "        x = self.fc2_drop(x)\n",
    "        return F.log_softmax(self.fc3(x))\n",
    "\n",
    "model = Net()\n",
    "if cuda:\n",
    "    model.cuda()\n",
    "    \n",
    "optimizer = optim.SGD(model.parameters(), lr=0.01)\n",
    "\n",
    "print(model)"
   ]
  },
  {
   "cell_type": "markdown",
   "metadata": {},
   "source": [
    "## Learning\n",
    "\n",
    "Let's now define functions to `train()` and `test()` the model. "
   ]
  },
  {
   "cell_type": "code",
   "execution_count": 10,
   "metadata": {},
   "outputs": [],
   "source": [
    "def train(epoch, log_interval=100):\n",
    "    model.train()\n",
    "    for batch_idx, (data, target) in enumerate(train_loader):\n",
    "        if cuda:\n",
    "            data, target = data.cuda(), target.cuda()\n",
    "        data, target = Variable(data), Variable(target)\n",
    "        optimizer.zero_grad()\n",
    "        output = model(data)\n",
    "        loss = F.nll_loss(output, target)\n",
    "        loss.backward()\n",
    "        optimizer.step()\n",
    "        if batch_idx % log_interval == 0:\n",
    "            print('Train Epoch: {} [{}/{} ({:.0f}%)]\\tLoss: {:.6f}'.format(\n",
    "                epoch, batch_idx * len(data), len(train_loader.dataset),\n",
    "                100. * batch_idx / len(train_loader), loss.data[0]))"
   ]
  },
  {
   "cell_type": "code",
   "execution_count": 11,
   "metadata": {},
   "outputs": [],
   "source": [
    "def validate(loss_vector, accuracy_vector):\n",
    "    model.eval()\n",
    "    val_loss, correct = 0, 0\n",
    "    for data, target in validation_loader:\n",
    "        if cuda:\n",
    "            data, target = data.cuda(), target.cuda()\n",
    "        data, target = Variable(data, volatile=True), Variable(target)\n",
    "        output = model(data)\n",
    "        val_loss += F.nll_loss(output, target).data[0]\n",
    "        pred = output.data.max(1)[1] # get the index of the max log-probability\n",
    "        correct += pred.eq(target.data).cpu().sum()\n",
    "\n",
    "    val_loss /= len(validation_loader)\n",
    "    loss_vector.append(val_loss)\n",
    "\n",
    "    accuracy = 100. * correct / len(validation_loader.dataset)\n",
    "    accuracy_vector.append(accuracy)\n",
    "    \n",
    "    print('\\nValidation set: Average loss: {:.4f}, Accuracy: {}/{} ({:.0f}%)\\n'.format(\n",
    "        val_loss, correct, len(validation_loader.dataset), accuracy))"
   ]
  },
  {
   "cell_type": "markdown",
   "metadata": {},
   "source": [
    "Now we are ready to train our model using the `train()` function.  An *epoch* means one pass through the whole training data. After each epoch, we evaluate the model using `test()`. "
   ]
  },
  {
   "cell_type": "code",
   "execution_count": 12,
   "metadata": {},
   "outputs": [
    {
     "name": "stderr",
     "output_type": "stream",
     "text": [
      "/usr/local/lib/python2.7/dist-packages/ipykernel_launcher.py:16: UserWarning: Implicit dimension choice for log_softmax has been deprecated. Change the call to include dim=X as an argument.\n",
      "  app.launch_new_instance()\n",
      "/usr/local/lib/python2.7/dist-packages/ipykernel_launcher.py:15: UserWarning: invalid index of a 0-dim tensor. This will be an error in PyTorch 0.5. Use tensor.item() to convert a 0-dim tensor to a Python number\n",
      "  from ipykernel import kernelapp as app\n"
     ]
    },
    {
     "name": "stdout",
     "output_type": "stream",
     "text": [
      "Train Epoch: 1 [0/60000 (0%)]\tLoss: 2.284910\n",
      "Train Epoch: 1 [3200/60000 (5%)]\tLoss: 2.013707\n",
      "Train Epoch: 1 [6400/60000 (11%)]\tLoss: 1.817814\n",
      "Train Epoch: 1 [9600/60000 (16%)]\tLoss: 1.005679\n",
      "Train Epoch: 1 [12800/60000 (21%)]\tLoss: 1.000503\n",
      "Train Epoch: 1 [16000/60000 (27%)]\tLoss: 0.757181\n",
      "Train Epoch: 1 [19200/60000 (32%)]\tLoss: 0.879414\n",
      "Train Epoch: 1 [22400/60000 (37%)]\tLoss: 0.452807\n",
      "Train Epoch: 1 [25600/60000 (43%)]\tLoss: 0.533048\n",
      "Train Epoch: 1 [28800/60000 (48%)]\tLoss: 0.785312\n",
      "Train Epoch: 1 [32000/60000 (53%)]\tLoss: 0.553476\n",
      "Train Epoch: 1 [35200/60000 (59%)]\tLoss: 0.415276\n",
      "Train Epoch: 1 [38400/60000 (64%)]\tLoss: 0.658495\n",
      "Train Epoch: 1 [41600/60000 (69%)]\tLoss: 0.492401\n",
      "Train Epoch: 1 [44800/60000 (75%)]\tLoss: 0.394662\n",
      "Train Epoch: 1 [48000/60000 (80%)]\tLoss: 0.367431\n",
      "Train Epoch: 1 [51200/60000 (85%)]\tLoss: 0.736484\n",
      "Train Epoch: 1 [54400/60000 (91%)]\tLoss: 0.549653\n",
      "Train Epoch: 1 [57600/60000 (96%)]\tLoss: 0.274903\n"
     ]
    },
    {
     "name": "stderr",
     "output_type": "stream",
     "text": [
      "/usr/local/lib/python2.7/dist-packages/ipykernel_launcher.py:7: UserWarning: volatile was removed and now has no effect. Use `with torch.no_grad():` instead.\n",
      "  import sys\n",
      "/usr/local/lib/python2.7/dist-packages/ipykernel_launcher.py:9: UserWarning: invalid index of a 0-dim tensor. This will be an error in PyTorch 0.5. Use tensor.item() to convert a 0-dim tensor to a Python number\n",
      "  if __name__ == '__main__':\n"
     ]
    },
    {
     "name": "stdout",
     "output_type": "stream",
     "text": [
      "\n",
      "Validation set: Average loss: 0.2855, Accuracy: 9183/10000 (91%)\n",
      "\n",
      "Train Epoch: 2 [0/60000 (0%)]\tLoss: 0.310330\n",
      "Train Epoch: 2 [3200/60000 (5%)]\tLoss: 0.348887\n",
      "Train Epoch: 2 [6400/60000 (11%)]\tLoss: 0.265398\n",
      "Train Epoch: 2 [9600/60000 (16%)]\tLoss: 0.724548\n",
      "Train Epoch: 2 [12800/60000 (21%)]\tLoss: 0.150178\n",
      "Train Epoch: 2 [16000/60000 (27%)]\tLoss: 0.153567\n",
      "Train Epoch: 2 [19200/60000 (32%)]\tLoss: 0.409039\n",
      "Train Epoch: 2 [22400/60000 (37%)]\tLoss: 0.259395\n",
      "Train Epoch: 2 [25600/60000 (43%)]\tLoss: 0.276495\n",
      "Train Epoch: 2 [28800/60000 (48%)]\tLoss: 0.509842\n",
      "Train Epoch: 2 [32000/60000 (53%)]\tLoss: 0.264171\n",
      "Train Epoch: 2 [35200/60000 (59%)]\tLoss: 0.329868\n",
      "Train Epoch: 2 [38400/60000 (64%)]\tLoss: 0.433636\n",
      "Train Epoch: 2 [41600/60000 (69%)]\tLoss: 0.402360\n",
      "Train Epoch: 2 [44800/60000 (75%)]\tLoss: 0.372864\n",
      "Train Epoch: 2 [48000/60000 (80%)]\tLoss: 0.340965\n",
      "Train Epoch: 2 [51200/60000 (85%)]\tLoss: 0.347238\n",
      "Train Epoch: 2 [54400/60000 (91%)]\tLoss: 0.381307\n",
      "Train Epoch: 2 [57600/60000 (96%)]\tLoss: 0.254412\n",
      "\n",
      "Validation set: Average loss: 0.2186, Accuracy: 9327/10000 (93%)\n",
      "\n",
      "Train Epoch: 3 [0/60000 (0%)]\tLoss: 0.181049\n",
      "Train Epoch: 3 [3200/60000 (5%)]\tLoss: 0.259835\n",
      "Train Epoch: 3 [6400/60000 (11%)]\tLoss: 0.155090\n",
      "Train Epoch: 3 [9600/60000 (16%)]\tLoss: 0.365495\n",
      "Train Epoch: 3 [12800/60000 (21%)]\tLoss: 0.200288\n",
      "Train Epoch: 3 [16000/60000 (27%)]\tLoss: 0.251385\n",
      "Train Epoch: 3 [19200/60000 (32%)]\tLoss: 0.044975\n",
      "Train Epoch: 3 [22400/60000 (37%)]\tLoss: 0.598794\n",
      "Train Epoch: 3 [25600/60000 (43%)]\tLoss: 0.436031\n",
      "Train Epoch: 3 [28800/60000 (48%)]\tLoss: 0.291257\n",
      "Train Epoch: 3 [32000/60000 (53%)]\tLoss: 0.118719\n",
      "Train Epoch: 3 [35200/60000 (59%)]\tLoss: 0.237062\n",
      "Train Epoch: 3 [38400/60000 (64%)]\tLoss: 0.216398\n",
      "Train Epoch: 3 [41600/60000 (69%)]\tLoss: 0.317274\n",
      "Train Epoch: 3 [44800/60000 (75%)]\tLoss: 0.368352\n",
      "Train Epoch: 3 [48000/60000 (80%)]\tLoss: 0.229660\n",
      "Train Epoch: 3 [51200/60000 (85%)]\tLoss: 0.329630\n",
      "Train Epoch: 3 [54400/60000 (91%)]\tLoss: 0.127166\n",
      "Train Epoch: 3 [57600/60000 (96%)]\tLoss: 0.422630\n",
      "\n",
      "Validation set: Average loss: 0.1900, Accuracy: 9416/10000 (94%)\n",
      "\n",
      "Train Epoch: 4 [0/60000 (0%)]\tLoss: 0.665580\n",
      "Train Epoch: 4 [3200/60000 (5%)]\tLoss: 0.355010\n",
      "Train Epoch: 4 [6400/60000 (11%)]\tLoss: 0.521489\n",
      "Train Epoch: 4 [9600/60000 (16%)]\tLoss: 0.683341\n",
      "Train Epoch: 4 [12800/60000 (21%)]\tLoss: 0.331437\n",
      "Train Epoch: 4 [16000/60000 (27%)]\tLoss: 0.076600\n",
      "Train Epoch: 4 [19200/60000 (32%)]\tLoss: 0.198614\n",
      "Train Epoch: 4 [22400/60000 (37%)]\tLoss: 0.248050\n",
      "Train Epoch: 4 [25600/60000 (43%)]\tLoss: 0.064174\n",
      "Train Epoch: 4 [28800/60000 (48%)]\tLoss: 0.660245\n",
      "Train Epoch: 4 [32000/60000 (53%)]\tLoss: 0.466004\n",
      "Train Epoch: 4 [35200/60000 (59%)]\tLoss: 0.318411\n",
      "Train Epoch: 4 [38400/60000 (64%)]\tLoss: 0.162161\n",
      "Train Epoch: 4 [41600/60000 (69%)]\tLoss: 0.140038\n",
      "Train Epoch: 4 [44800/60000 (75%)]\tLoss: 0.188084\n",
      "Train Epoch: 4 [48000/60000 (80%)]\tLoss: 0.229700\n",
      "Train Epoch: 4 [51200/60000 (85%)]\tLoss: 0.445672\n",
      "Train Epoch: 4 [54400/60000 (91%)]\tLoss: 0.131768\n",
      "Train Epoch: 4 [57600/60000 (96%)]\tLoss: 0.493599\n",
      "\n",
      "Validation set: Average loss: 0.1660, Accuracy: 9483/10000 (94%)\n",
      "\n",
      "Train Epoch: 5 [0/60000 (0%)]\tLoss: 0.209127\n",
      "Train Epoch: 5 [3200/60000 (5%)]\tLoss: 0.246286\n",
      "Train Epoch: 5 [6400/60000 (11%)]\tLoss: 0.582739\n",
      "Train Epoch: 5 [9600/60000 (16%)]\tLoss: 0.120230\n",
      "Train Epoch: 5 [12800/60000 (21%)]\tLoss: 0.316058\n",
      "Train Epoch: 5 [16000/60000 (27%)]\tLoss: 0.178065\n",
      "Train Epoch: 5 [19200/60000 (32%)]\tLoss: 0.214031\n",
      "Train Epoch: 5 [22400/60000 (37%)]\tLoss: 0.227850\n",
      "Train Epoch: 5 [25600/60000 (43%)]\tLoss: 0.493068\n",
      "Train Epoch: 5 [28800/60000 (48%)]\tLoss: 0.318245\n",
      "Train Epoch: 5 [32000/60000 (53%)]\tLoss: 0.112588\n",
      "Train Epoch: 5 [35200/60000 (59%)]\tLoss: 0.202227\n",
      "Train Epoch: 5 [38400/60000 (64%)]\tLoss: 0.251070\n",
      "Train Epoch: 5 [41600/60000 (69%)]\tLoss: 0.351495\n",
      "Train Epoch: 5 [44800/60000 (75%)]\tLoss: 0.320402\n",
      "Train Epoch: 5 [48000/60000 (80%)]\tLoss: 0.126131\n",
      "Train Epoch: 5 [51200/60000 (85%)]\tLoss: 0.347950\n",
      "Train Epoch: 5 [54400/60000 (91%)]\tLoss: 0.122385\n",
      "Train Epoch: 5 [57600/60000 (96%)]\tLoss: 0.214954\n",
      "\n",
      "Validation set: Average loss: 0.1542, Accuracy: 9523/10000 (95%)\n",
      "\n",
      "Train Epoch: 6 [0/60000 (0%)]\tLoss: 0.496733\n",
      "Train Epoch: 6 [3200/60000 (5%)]\tLoss: 0.074388\n",
      "Train Epoch: 6 [6400/60000 (11%)]\tLoss: 0.176213\n",
      "Train Epoch: 6 [9600/60000 (16%)]\tLoss: 0.300976\n",
      "Train Epoch: 6 [12800/60000 (21%)]\tLoss: 0.261567\n",
      "Train Epoch: 6 [16000/60000 (27%)]\tLoss: 0.247304\n",
      "Train Epoch: 6 [19200/60000 (32%)]\tLoss: 0.119624\n",
      "Train Epoch: 6 [22400/60000 (37%)]\tLoss: 0.477014\n",
      "Train Epoch: 6 [25600/60000 (43%)]\tLoss: 0.165657\n",
      "Train Epoch: 6 [28800/60000 (48%)]\tLoss: 0.123987\n",
      "Train Epoch: 6 [32000/60000 (53%)]\tLoss: 0.054182\n",
      "Train Epoch: 6 [35200/60000 (59%)]\tLoss: 0.350372\n",
      "Train Epoch: 6 [38400/60000 (64%)]\tLoss: 0.143910\n",
      "Train Epoch: 6 [41600/60000 (69%)]\tLoss: 0.056947\n",
      "Train Epoch: 6 [44800/60000 (75%)]\tLoss: 0.166622\n",
      "Train Epoch: 6 [48000/60000 (80%)]\tLoss: 0.184825\n",
      "Train Epoch: 6 [51200/60000 (85%)]\tLoss: 0.300691\n",
      "Train Epoch: 6 [54400/60000 (91%)]\tLoss: 0.473343\n",
      "Train Epoch: 6 [57600/60000 (96%)]\tLoss: 0.237720\n",
      "\n",
      "Validation set: Average loss: 0.1434, Accuracy: 9548/10000 (95%)\n",
      "\n",
      "Train Epoch: 7 [0/60000 (0%)]\tLoss: 0.090658\n",
      "Train Epoch: 7 [3200/60000 (5%)]\tLoss: 0.233612\n",
      "Train Epoch: 7 [6400/60000 (11%)]\tLoss: 0.201009\n",
      "Train Epoch: 7 [9600/60000 (16%)]\tLoss: 0.103838\n",
      "Train Epoch: 7 [12800/60000 (21%)]\tLoss: 0.190988\n",
      "Train Epoch: 7 [16000/60000 (27%)]\tLoss: 0.095355\n",
      "Train Epoch: 7 [19200/60000 (32%)]\tLoss: 0.058610\n",
      "Train Epoch: 7 [22400/60000 (37%)]\tLoss: 0.576935\n",
      "Train Epoch: 7 [25600/60000 (43%)]\tLoss: 0.425067\n",
      "Train Epoch: 7 [28800/60000 (48%)]\tLoss: 0.061911\n",
      "Train Epoch: 7 [32000/60000 (53%)]\tLoss: 0.046509\n",
      "Train Epoch: 7 [35200/60000 (59%)]\tLoss: 0.171346\n",
      "Train Epoch: 7 [38400/60000 (64%)]\tLoss: 0.116646\n",
      "Train Epoch: 7 [41600/60000 (69%)]\tLoss: 0.208842\n",
      "Train Epoch: 7 [44800/60000 (75%)]\tLoss: 0.073397\n",
      "Train Epoch: 7 [48000/60000 (80%)]\tLoss: 0.095693\n",
      "Train Epoch: 7 [51200/60000 (85%)]\tLoss: 0.229837\n",
      "Train Epoch: 7 [54400/60000 (91%)]\tLoss: 0.127702\n",
      "Train Epoch: 7 [57600/60000 (96%)]\tLoss: 0.089133\n",
      "\n",
      "Validation set: Average loss: 0.1351, Accuracy: 9587/10000 (95%)\n",
      "\n",
      "Train Epoch: 8 [0/60000 (0%)]\tLoss: 0.242067\n",
      "Train Epoch: 8 [3200/60000 (5%)]\tLoss: 0.219014\n",
      "Train Epoch: 8 [6400/60000 (11%)]\tLoss: 0.063634\n",
      "Train Epoch: 8 [9600/60000 (16%)]\tLoss: 0.122822\n",
      "Train Epoch: 8 [12800/60000 (21%)]\tLoss: 0.146351\n",
      "Train Epoch: 8 [16000/60000 (27%)]\tLoss: 0.157720\n",
      "Train Epoch: 8 [19200/60000 (32%)]\tLoss: 0.225969\n",
      "Train Epoch: 8 [22400/60000 (37%)]\tLoss: 0.367191\n",
      "Train Epoch: 8 [25600/60000 (43%)]\tLoss: 0.424837\n",
      "Train Epoch: 8 [28800/60000 (48%)]\tLoss: 0.129735\n",
      "Train Epoch: 8 [32000/60000 (53%)]\tLoss: 0.296231\n",
      "Train Epoch: 8 [35200/60000 (59%)]\tLoss: 0.205862\n",
      "Train Epoch: 8 [38400/60000 (64%)]\tLoss: 0.284381\n",
      "Train Epoch: 8 [41600/60000 (69%)]\tLoss: 0.061751\n",
      "Train Epoch: 8 [44800/60000 (75%)]\tLoss: 0.040591\n",
      "Train Epoch: 8 [48000/60000 (80%)]\tLoss: 0.192112\n",
      "Train Epoch: 8 [51200/60000 (85%)]\tLoss: 0.091181\n",
      "Train Epoch: 8 [54400/60000 (91%)]\tLoss: 0.533402\n",
      "Train Epoch: 8 [57600/60000 (96%)]\tLoss: 0.154860\n",
      "\n",
      "Validation set: Average loss: 0.1260, Accuracy: 9615/10000 (96%)\n",
      "\n",
      "Train Epoch: 9 [0/60000 (0%)]\tLoss: 0.041595\n",
      "Train Epoch: 9 [3200/60000 (5%)]\tLoss: 0.260837\n",
      "Train Epoch: 9 [6400/60000 (11%)]\tLoss: 0.409075\n",
      "Train Epoch: 9 [9600/60000 (16%)]\tLoss: 0.209618\n",
      "Train Epoch: 9 [12800/60000 (21%)]\tLoss: 0.217544\n",
      "Train Epoch: 9 [16000/60000 (27%)]\tLoss: 0.229072\n",
      "Train Epoch: 9 [19200/60000 (32%)]\tLoss: 0.127474\n",
      "Train Epoch: 9 [22400/60000 (37%)]\tLoss: 0.190974\n",
      "Train Epoch: 9 [25600/60000 (43%)]\tLoss: 0.156952\n",
      "Train Epoch: 9 [28800/60000 (48%)]\tLoss: 0.511941\n",
      "Train Epoch: 9 [32000/60000 (53%)]\tLoss: 0.375965\n",
      "Train Epoch: 9 [35200/60000 (59%)]\tLoss: 0.292831\n",
      "Train Epoch: 9 [38400/60000 (64%)]\tLoss: 0.120731\n",
      "Train Epoch: 9 [41600/60000 (69%)]\tLoss: 0.115599\n",
      "Train Epoch: 9 [44800/60000 (75%)]\tLoss: 0.049507\n",
      "Train Epoch: 9 [48000/60000 (80%)]\tLoss: 0.243321\n",
      "Train Epoch: 9 [51200/60000 (85%)]\tLoss: 0.555612\n",
      "Train Epoch: 9 [54400/60000 (91%)]\tLoss: 0.168275\n",
      "Train Epoch: 9 [57600/60000 (96%)]\tLoss: 0.290837\n",
      "\n",
      "Validation set: Average loss: 0.1216, Accuracy: 9619/10000 (96%)\n",
      "\n",
      "Train Epoch: 10 [0/60000 (0%)]\tLoss: 0.153224\n",
      "Train Epoch: 10 [3200/60000 (5%)]\tLoss: 0.081259\n"
     ]
    },
    {
     "name": "stdout",
     "output_type": "stream",
     "text": [
      "Train Epoch: 10 [6400/60000 (11%)]\tLoss: 0.580251\n",
      "Train Epoch: 10 [9600/60000 (16%)]\tLoss: 0.040264\n",
      "Train Epoch: 10 [12800/60000 (21%)]\tLoss: 0.090311\n",
      "Train Epoch: 10 [16000/60000 (27%)]\tLoss: 0.171100\n",
      "Train Epoch: 10 [19200/60000 (32%)]\tLoss: 0.132013\n",
      "Train Epoch: 10 [22400/60000 (37%)]\tLoss: 0.152691\n",
      "Train Epoch: 10 [25600/60000 (43%)]\tLoss: 0.125463\n",
      "Train Epoch: 10 [28800/60000 (48%)]\tLoss: 0.368436\n",
      "Train Epoch: 10 [32000/60000 (53%)]\tLoss: 0.152544\n",
      "Train Epoch: 10 [35200/60000 (59%)]\tLoss: 0.180081\n",
      "Train Epoch: 10 [38400/60000 (64%)]\tLoss: 0.142541\n",
      "Train Epoch: 10 [41600/60000 (69%)]\tLoss: 0.345644\n",
      "Train Epoch: 10 [44800/60000 (75%)]\tLoss: 0.213023\n",
      "Train Epoch: 10 [48000/60000 (80%)]\tLoss: 0.164083\n",
      "Train Epoch: 10 [51200/60000 (85%)]\tLoss: 0.101581\n",
      "Train Epoch: 10 [54400/60000 (91%)]\tLoss: 0.233842\n",
      "Train Epoch: 10 [57600/60000 (96%)]\tLoss: 0.064766\n",
      "\n",
      "Validation set: Average loss: 0.1183, Accuracy: 9646/10000 (96%)\n",
      "\n",
      "CPU times: user 25.3 s, sys: 3.98 s, total: 29.3 s\n",
      "Wall time: 55 s\n"
     ]
    }
   ],
   "source": [
    "%%time\n",
    "epochs = 10\n",
    "\n",
    "lossv, accv = [], []\n",
    "for epoch in range(1, epochs + 1):\n",
    "    train(epoch)\n",
    "    validate(lossv, accv)"
   ]
  },
  {
   "cell_type": "markdown",
   "metadata": {},
   "source": [
    "Let's now visualize how the training progressed. \n",
    "\n",
    "* *Loss* is a function of the difference of the network output and the target values.  We are minimizing the loss function during training so it should decrease over time.\n",
    "* *Accuracy* is the classification accuracy for the test data."
   ]
  },
  {
   "cell_type": "code",
   "execution_count": 13,
   "metadata": {},
   "outputs": [
    {
     "data": {
      "image/png": "[encoded data removed]",
      "text/plain": [
       "<matplotlib.figure.Figure at 0x7fd1c0018bd0>"
      ]
     },
     "metadata": {},
     "output_type": "display_data"
    },
    {
     "data": {
      "image/png": "[encoded data removed]",
      "text/plain": [
       "<matplotlib.figure.Figure at 0x7fd191fe1b90>"
      ]
     },
     "metadata": {},
     "output_type": "display_data"
    }
   ],
   "source": [
    "plt.figure(figsize=(5,3))\n",
    "plt.plot(np.arange(1,epochs+1), lossv)\n",
    "plt.title('validation loss')\n",
    "\n",
    "plt.figure(figsize=(5,3))\n",
    "plt.plot(np.arange(1,epochs+1), accv)\n",
    "plt.title('validation accuracy');\n",
    "\n"
   ]
  }
 ],
 "metadata": {
  "kernelspec": {
   "display_name": "Python 3",
   "language": "python",
   "name": "python3"
  },
  "language_info": {
   "codemirror_mode": {
    "name": "ipython",
    "version": 2
   },
   "file_extension": ".py",
   "mimetype": "text/x-python",
   "name": "python",
   "nbconvert_exporter": "python",
   "pygments_lexer": "ipython2",
   "version": "2.7.12"
  }
 },
 "nbformat": 4,
 "nbformat_minor": 2
}
